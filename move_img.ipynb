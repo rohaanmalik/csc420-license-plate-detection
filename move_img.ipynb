{
 "cells": [
  {
   "cell_type": "code",
   "execution_count": 1,
   "metadata": {},
   "outputs": [],
   "source": [
    "import os\n",
    "from os import listdir\n"
   ]
  },
  {
   "cell_type": "code",
   "execution_count": 14,
   "metadata": {},
   "outputs": [],
   "source": [
    "for x in os.listdir(\"/notebooks/storage/lost+found/dataset/new_indian/\"):\n",
    "    if \".txt\" in x:\n",
    "        os.rename(\"/notebooks/storage/lost+found/dataset/new_indian/\" + x, \"/notebooks/storage/lost+found/dataset/endtoend_labels/\" + x)\n",
    "    elif \".jpg\" in x:\n",
    "        os.rename(\"/notebooks/storage/lost+found/dataset/new_indian/\" + x, \"/notebooks/storage/lost+found/dataset/new_images/\" + x)\n"
   ]
  },
  {
   "cell_type": "code",
   "execution_count": 11,
   "metadata": {},
   "outputs": [],
   "source": [
    "for x in os.listdir(\"/notebooks/storage/lost+found/dataset/img/\"):\n",
    "    if \".txt\" not in x:\n",
    "        os.remove(\"/notebooks/storage/lost+found/dataset/img/\" + x)\n"
   ]
  },
  {
   "cell_type": "code",
   "execution_count": 7,
   "metadata": {},
   "outputs": [],
   "source": [
    "for x in os.listdir(\"/notebooks/storage/lost+found/dataset/endtoend/br\"):\n",
    "    if \".txt\" in x:\n",
    "        os.rename(\"/notebooks/storage/lost+found/dataset/endtoend/br/\" + x, \"/notebooks/storage/lost+found/dataset/endtoend_labels/\" + x)\n",
    "        \n",
    "for x in os.listdir(\"/notebooks/storage/lost+found/dataset/endtoend/eu\"):\n",
    "    if \".txt\" in x:\n",
    "        os.rename(\"/notebooks/storage/lost+found/dataset/endtoend/eu/\" + x, \"/notebooks/storage/lost+found/dataset/endtoend_labels/\" + x)\n",
    "for x in os.listdir(\"/notebooks/storage/lost+found/dataset/endtoend/us\"):\n",
    "    if \".txt\" in x:\n",
    "        os.rename(\"/notebooks/storage/lost+found/dataset/endtoend/us/\" + x, \"/notebooks/storage/lost+found/dataset/endtoend_labels/\" + x)"
   ]
  },
  {
   "cell_type": "code",
   "execution_count": 10,
   "metadata": {},
   "outputs": [],
   "source": [
    "for x in os.listdir(\"/notebooks/storage/lost+found/dataset/endtoend_labels/\"):\n",
    "    if \".txt\" in x:\n",
    "        with open(\"/notebooks/storage/lost+found/dataset/endtoend_labels/\" + x, \"r\") as fr:\n",
    "            line = fr.readline().strip().split(\"\\t\")\n",
    "            line[0] = '0'\n",
    "            line.pop()\n",
    "            with open(\"/notebooks/storage/lost+found/dataset/endtoend_labels/\" + x, \"w\") as fw:\n",
    "                fw.write(\" \".join(line))"
   ]
  },
  {
   "cell_type": "code",
   "execution_count": 15,
   "metadata": {},
   "outputs": [
    {
     "name": "stdout",
     "output_type": "stream",
     "text": [
      "563\n"
     ]
    }
   ],
   "source": [
    "print(len(os.listdir(\"/notebooks/storage/lost+found/dataset/endtoend_labels/\")))"
   ]
  },
  {
   "cell_type": "code",
   "execution_count": null,
   "metadata": {},
   "outputs": [],
   "source": []
  }
 ],
 "metadata": {
  "kernelspec": {
   "display_name": "Python 3",
   "language": "python",
   "name": "python3"
  },
  "language_info": {
   "codemirror_mode": {
    "name": "ipython",
    "version": 3
   },
   "file_extension": ".py",
   "mimetype": "text/x-python",
   "name": "python",
   "nbconvert_exporter": "python",
   "pygments_lexer": "ipython3",
   "version": "3.6.8"
  }
 },
 "nbformat": 4,
 "nbformat_minor": 2
}
